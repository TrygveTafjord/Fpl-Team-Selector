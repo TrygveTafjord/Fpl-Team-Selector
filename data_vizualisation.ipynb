{
 "cells": [
  {
   "cell_type": "markdown",
   "metadata": {},
   "source": [
    "# Notebook for visualizing player-data"
   ]
  },
  {
   "cell_type": "code",
   "execution_count": 1,
   "metadata": {},
   "outputs": [],
   "source": [
    "import pandas as pd\n",
    "from utils import *"
   ]
  },
  {
   "cell_type": "code",
   "execution_count": 3,
   "metadata": {},
   "outputs": [
    {
     "name": "stdout",
     "output_type": "stream",
     "text": [
      "<class 'pandas.core.frame.DataFrame'>\n",
      "Int64Index: 29761 entries, 0 to 34\n",
      "Data columns (total 36 columns):\n",
      " #   Column                      Non-Null Count  Dtype  \n",
      "---  ------                      --------------  -----  \n",
      " 0   assists                     29761 non-null  int64  \n",
      " 1   bonus                       29761 non-null  int64  \n",
      " 2   bps                         29761 non-null  int64  \n",
      " 3   clean_sheets                29761 non-null  int64  \n",
      " 4   creativity                  29761 non-null  float64\n",
      " 5   element                     29761 non-null  int64  \n",
      " 6   expected_assists            29761 non-null  float64\n",
      " 7   expected_goal_involvements  29761 non-null  float64\n",
      " 8   expected_goals              29761 non-null  float64\n",
      " 9   expected_goals_conceded     29761 non-null  float64\n",
      " 10  fixture                     29761 non-null  int64  \n",
      " 11  goals_conceded              29761 non-null  int64  \n",
      " 12  goals_scored                29761 non-null  int64  \n",
      " 13  ict_index                   29761 non-null  float64\n",
      " 14  influence                   29761 non-null  float64\n",
      " 15  kickoff_time                29761 non-null  object \n",
      " 16  minutes                     29761 non-null  int64  \n",
      " 17  opponent_team               29761 non-null  int64  \n",
      " 18  own_goals                   29761 non-null  int64  \n",
      " 19  penalties_missed            29761 non-null  int64  \n",
      " 20  penalties_saved             29761 non-null  int64  \n",
      " 21  red_cards                   29761 non-null  int64  \n",
      " 22  round                       29761 non-null  int64  \n",
      " 23  saves                       29761 non-null  int64  \n",
      " 24  selected                    29761 non-null  int64  \n",
      " 25  starts                      29761 non-null  int64  \n",
      " 26  team_a_score                29761 non-null  int64  \n",
      " 27  team_h_score                29761 non-null  int64  \n",
      " 28  threat                      29761 non-null  float64\n",
      " 29  total_points                29761 non-null  int64  \n",
      " 30  transfers_balance           29761 non-null  int64  \n",
      " 31  transfers_in                29761 non-null  int64  \n",
      " 32  transfers_out               29761 non-null  int64  \n",
      " 33  value                       29761 non-null  int64  \n",
      " 34  was_home                    29761 non-null  bool   \n",
      " 35  yellow_cards                29761 non-null  int64  \n",
      "dtypes: bool(1), float64(8), int64(26), object(1)\n",
      "memory usage: 8.2+ MB\n"
     ]
    }
   ],
   "source": [
    "player_data = get_player_history_by_season(Season.SEASON_2023_24)\n",
    "\n",
    "\n",
    "player_data.info()"
   ]
  }
 ],
 "metadata": {
  "kernelspec": {
   "display_name": "Python 3",
   "language": "python",
   "name": "python3"
  },
  "language_info": {
   "codemirror_mode": {
    "name": "ipython",
    "version": 3
   },
   "file_extension": ".py",
   "mimetype": "text/x-python",
   "name": "python",
   "nbconvert_exporter": "python",
   "pygments_lexer": "ipython3",
   "version": "3.9.7"
  }
 },
 "nbformat": 4,
 "nbformat_minor": 2
}
