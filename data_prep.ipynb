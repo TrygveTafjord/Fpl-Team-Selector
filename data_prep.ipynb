{
 "cells": [
  {
   "cell_type": "markdown",
   "metadata": {},
   "source": [
    "# Preprossesing \n",
    "\n",
    "The aim is to create a model for prodicting points for players in fpl. Since each position gets points based on different parameters, it is decided that one regression model is to be implemented for each position (GK, DEF, MID, FWD). As a result of this, info from different .csv-files must be fetched. Further more this allows for unneccesary coloumns to be removed (xG is not relevant for GK's in the same way that number fo saves os not relevant for FWD's). "
   ]
  },
  {
   "cell_type": "markdown",
   "metadata": {},
   "source": [
    "### Test set\n",
    "The test set consists of the final 15 games of the 2023-2024 season, about 20% of the dataset "
   ]
  },
  {
   "cell_type": "code",
   "execution_count": 2,
   "metadata": {},
   "outputs": [],
   "source": [
    "import pandas as pd\n",
    "import os\n",
    "from utils import *"
   ]
  },
  {
   "cell_type": "markdown",
   "metadata": {},
   "source": [
    "### FW\n",
    "Creating the dataframe for forwards. This dataframe consists of all data from the last 6 games for every player at every gameweek. "
   ]
  },
  {
   "cell_type": "code",
   "execution_count": 15,
   "metadata": {},
   "outputs": [
    {
     "name": "stdout",
     "output_type": "stream",
     "text": [
      "<class 'pandas.core.frame.DataFrame'>\n",
      "RangeIndex: 26505 entries, 0 to 26504\n",
      "Data columns (total 33 columns):\n",
      " #   Column                      Non-Null Count  Dtype  \n",
      "---  ------                      --------------  -----  \n",
      " 0   name                        26505 non-null  object \n",
      " 1   position                    26505 non-null  object \n",
      " 2   team                        26505 non-null  object \n",
      " 3   xP                          26505 non-null  float64\n",
      " 4   assists                     26505 non-null  int64  \n",
      " 5   bonus                       26505 non-null  int64  \n",
      " 6   bps                         26505 non-null  int64  \n",
      " 7   creativity                  26505 non-null  float64\n",
      " 8   expected_assists            26505 non-null  float64\n",
      " 9   expected_goal_involvements  26505 non-null  float64\n",
      " 10  expected_goals              26505 non-null  float64\n",
      " 11  expected_goals_conceded     26505 non-null  float64\n",
      " 12  fixture                     26505 non-null  int64  \n",
      " 13  goals_conceded              26505 non-null  int64  \n",
      " 14  goals_scored                26505 non-null  int64  \n",
      " 15  ict_index                   26505 non-null  float64\n",
      " 16  influence                   26505 non-null  float64\n",
      " 17  minutes                     26505 non-null  int64  \n",
      " 18  opponent_team               26505 non-null  int64  \n",
      " 19  own_goals                   26505 non-null  int64  \n",
      " 20  penalties_missed            26505 non-null  int64  \n",
      " 21  red_cards                   26505 non-null  int64  \n",
      " 22  selected                    26505 non-null  int64  \n",
      " 23  team_a_score                26505 non-null  int64  \n",
      " 24  team_h_score                26505 non-null  int64  \n",
      " 25  threat                      26505 non-null  float64\n",
      " 26  total_points                26505 non-null  int64  \n",
      " 27  transfers_balance           26505 non-null  int64  \n",
      " 28  transfers_in                26505 non-null  int64  \n",
      " 29  transfers_out               26505 non-null  int64  \n",
      " 30  value                       26505 non-null  int64  \n",
      " 31  was_home                    26505 non-null  bool   \n",
      " 32  yellow_cards                26505 non-null  int64  \n",
      "dtypes: bool(1), float64(9), int64(20), object(3)\n",
      "memory usage: 6.5+ MB\n",
      "<class 'pandas.core.frame.DataFrame'>\n",
      "Int64Index: 9183 entries, 3 to 26502\n",
      "Data columns (total 33 columns):\n",
      " #   Column                      Non-Null Count  Dtype  \n",
      "---  ------                      --------------  -----  \n",
      " 0   name                        9183 non-null   object \n",
      " 1   position                    9183 non-null   object \n",
      " 2   team                        9183 non-null   object \n",
      " 3   xP                          9183 non-null   float64\n",
      " 4   assists                     9183 non-null   int64  \n",
      " 5   bonus                       9183 non-null   int64  \n",
      " 6   bps                         9183 non-null   int64  \n",
      " 7   creativity                  9183 non-null   float64\n",
      " 8   expected_assists            9183 non-null   float64\n",
      " 9   expected_goal_involvements  9183 non-null   float64\n",
      " 10  expected_goals              9183 non-null   float64\n",
      " 11  expected_goals_conceded     9183 non-null   float64\n",
      " 12  fixture                     9183 non-null   int64  \n",
      " 13  goals_conceded              9183 non-null   int64  \n",
      " 14  goals_scored                9183 non-null   int64  \n",
      " 15  ict_index                   9183 non-null   float64\n",
      " 16  influence                   9183 non-null   float64\n",
      " 17  minutes                     9183 non-null   int64  \n",
      " 18  opponent_team               9183 non-null   int64  \n",
      " 19  own_goals                   9183 non-null   int64  \n",
      " 20  penalties_missed            9183 non-null   int64  \n",
      " 21  red_cards                   9183 non-null   int64  \n",
      " 22  selected                    9183 non-null   int64  \n",
      " 23  team_a_score                9183 non-null   int64  \n",
      " 24  team_h_score                9183 non-null   int64  \n",
      " 25  threat                      9183 non-null   float64\n",
      " 26  total_points                9183 non-null   int64  \n",
      " 27  transfers_balance           9183 non-null   int64  \n",
      " 28  transfers_in                9183 non-null   int64  \n",
      " 29  transfers_out               9183 non-null   int64  \n",
      " 30  value                       9183 non-null   int64  \n",
      " 31  was_home                    9183 non-null   bool   \n",
      " 32  yellow_cards                9183 non-null   int64  \n",
      "dtypes: bool(1), float64(9), int64(20), object(3)\n",
      "memory usage: 2.3+ MB\n"
     ]
    }
   ],
   "source": [
    "def get_FW_player_data() -> pd.DataFrame:\n",
    "    \"\"\"\n",
    "    Get the data of all the FW players\n",
    "    :return: data of all the FW players\n",
    "    \"\"\"\n",
    "    # Getting data from 22/23 season\n",
    "    gw_lagg = 6 \n",
    "    FWD_cols = ['name', 'position', 'team', 'xP', 'assists', 'bonus', 'bps', \n",
    "                'creativity', 'expected_assists', 'expected_goal_involvements', \n",
    "                'expected_goals', 'expected_goals_conceded', 'fixture', 'goals_conceded', \n",
    "                'goals_scored', 'ict_index', 'influence', 'minutes', \n",
    "                'opponent_team', 'own_goals', 'penalties_missed', \n",
    "                'red_cards', 'selected', 'team_a_score', \n",
    "                'team_h_score', 'threat', 'total_points', 'transfers_balance', \n",
    "                'transfers_in', 'transfers_out', 'value', 'was_home', 'yellow_cards'\n",
    "                ]\n",
    "    \n",
    "    df = pd.read_csv(\"data/2022-23/gws/merged_gw.csv\", usecols=FWD_cols)\n",
    "    df.drop(df[df['position'] != \"FW\"].index, inplace=True)\n",
    "    \n",
    "    #Adding lagged features from 6 previous gameweeks\n",
    "\n",
    "    for i in range(1, gw_lagg+1):\n",
    "        "
   ]
  }
 ],
 "metadata": {
  "kernelspec": {
   "display_name": "Python 3",
   "language": "python",
   "name": "python3"
  },
  "language_info": {
   "codemirror_mode": {
    "name": "ipython",
    "version": 3
   },
   "file_extension": ".py",
   "mimetype": "text/x-python",
   "name": "python",
   "nbconvert_exporter": "python",
   "pygments_lexer": "ipython3",
   "version": "3.9.7"
  }
 },
 "nbformat": 4,
 "nbformat_minor": 2
}
