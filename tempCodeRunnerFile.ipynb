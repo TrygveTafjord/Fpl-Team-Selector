    gws_23_24 = sorted([f for f in os.listdir("data/2023-24/gws/") if f.endswith('.csv')])
    gws_23_24 = gws_23_24[:NUM_GWS-TEST_SET_GWS]
    df_23_24 = pd.concat([pd.read_csv("data/2023-24/gws/"+gw, usecols=FWD_cols) for gw in gws_23_24])
    df_23_24.info()
    print(df_23_24.columns)